{
  "metadata": {
    "kernelspec": {
      "name": "python",
      "display_name": "Python (Pyodide)",
      "language": "python"
    },
    "language_info": {
      "codemirror_mode": {
        "name": "python",
        "version": 3
      },
      "file_extension": ".py",
      "mimetype": "text/x-python",
      "name": "python",
      "nbconvert_exporter": "python",
      "pygments_lexer": "ipython3",
      "version": "3.8"
    }
  },
  "nbformat_minor": 5,
  "nbformat": 4,
  "cells": [
    {
      "id": "e6b049fc-36eb-44db-b203-4a0a25fbe202",
      "cell_type": "markdown",
      "source": "First install the libraries we will need: pandas, matplotlib, requests",
      "metadata": {}
    },
    {
      "id": "c6ee8e5e-4f0b-4473-92ab-8425483d2e9d",
      "cell_type": "code",
      "source": "# install pandas and matplotlib libraries\n\nimport pandas as pd\nimport matplotlib as mpl\nimport requests",
      "metadata": {
        "trusted": true
      },
      "outputs": [],
      "execution_count": 9
    },
    {
      "id": "50e4d352-859a-4a99-bd9d-a24759ad2a6c",
      "cell_type": "markdown",
      "source": "Now let's import some data from the Govt. of Ontario site via requests:",
      "metadata": {}
    },
    {
      "id": "591ef4ff-f1c6-4cbe-9d40-545cbf8cc396",
      "cell_type": "code",
      "source": "url = \"https://data.ontario.ca/dataset/ab5f4a2b-7219-4dc7-9e4d-aa4036c5bf36/resource/05214a0d-d8d9-4ea4-8d2a-f6e3833ba471/download/percent_positive_by_agegrp.csv\"\nfilename = \"percent_positive_by_agegrp.csv\"\nheaders = {'User-Agent': 'Mozilla/5.0 (Macintosh; Intel Mac OS X 10_10_1) AppleWebKit/537.36 (KHTML, like Gecko) Chrome/39.0.2171.95 Safari/537.36'}\nresponse = requests.get(url, headers=headers)\nprint (filename)\n\nwith open(filename, mode=\"wb\") as file:\n    file.write(response.content)",
      "metadata": {
        "trusted": true
      },
      "outputs": [
        {
          "name": "stdout",
          "output_type": "stream",
          "text": "percent_positive_by_agegrp.csv\n"
        }
      ],
      "execution_count": 7
    },
    {
      "id": "1a57ea2e-08b9-4c52-871f-b3c95cb32264",
      "cell_type": "markdown",
      "source": "Now let's read the data we've got from the CSV file! :)",
      "metadata": {}
    },
    {
      "id": "7f46f4e3-41bd-4a3f-9828-bcca918a78ad",
      "cell_type": "code",
      "source": "all_cases = pd.read_csv(filename)",
      "metadata": {
        "trusted": true
      },
      "outputs": [],
      "execution_count": 14
    },
    {
      "id": "3a945d38-8a13-467b-be15-72816920b945",
      "cell_type": "markdown",
      "source": "Next, let's look at the top 5 and bottom 5 rows:",
      "metadata": {}
    },
    {
      "id": "680d5892-1a36-49a0-a9c8-784bf1c1687b",
      "cell_type": "code",
      "source": "all_cases.head()",
      "metadata": {
        "trusted": true
      },
      "outputs": [
        {
          "execution_count": 15,
          "output_type": "execute_result",
          "data": {
            "text/plain": "         DATE age_category  percent_positive_7d_avg\n0  2020-05-01        0to13                   0.0319\n1  2020-05-02        0to13                   0.0329\n2  2020-05-03        0to13                   0.0351\n3  2020-05-04        0to13                   0.0351\n4  2020-05-05        0to13                   0.0347",
            "text/html": "<div>\n<style scoped>\n    .dataframe tbody tr th:only-of-type {\n        vertical-align: middle;\n    }\n\n    .dataframe tbody tr th {\n        vertical-align: top;\n    }\n\n    .dataframe thead th {\n        text-align: right;\n    }\n</style>\n<table border=\"1\" class=\"dataframe\">\n  <thead>\n    <tr style=\"text-align: right;\">\n      <th></th>\n      <th>DATE</th>\n      <th>age_category</th>\n      <th>percent_positive_7d_avg</th>\n    </tr>\n  </thead>\n  <tbody>\n    <tr>\n      <th>0</th>\n      <td>2020-05-01</td>\n      <td>0to13</td>\n      <td>0.0319</td>\n    </tr>\n    <tr>\n      <th>1</th>\n      <td>2020-05-02</td>\n      <td>0to13</td>\n      <td>0.0329</td>\n    </tr>\n    <tr>\n      <th>2</th>\n      <td>2020-05-03</td>\n      <td>0to13</td>\n      <td>0.0351</td>\n    </tr>\n    <tr>\n      <th>3</th>\n      <td>2020-05-04</td>\n      <td>0to13</td>\n      <td>0.0351</td>\n    </tr>\n    <tr>\n      <th>4</th>\n      <td>2020-05-05</td>\n      <td>0to13</td>\n      <td>0.0347</td>\n    </tr>\n  </tbody>\n</table>\n</div>"
          },
          "metadata": {}
        }
      ],
      "execution_count": 15
    },
    {
      "id": "b5ef1bec-9bed-49a4-838e-3c9b86318131",
      "cell_type": "code",
      "source": "all_cases.tail()",
      "metadata": {
        "trusted": true
      },
      "outputs": [
        {
          "execution_count": 16,
          "output_type": "execute_result",
          "data": {
            "text/plain": "            DATE age_category  percent_positive_7d_avg\n8075  2024-09-28          65+                   0.1969\n8076  2024-09-29          65+                   0.1935\n8077  2024-09-30          65+                   0.1905\n8078  2024-10-01          65+                   0.1928\n8079  2024-10-02          65+                   0.1924",
            "text/html": "<div>\n<style scoped>\n    .dataframe tbody tr th:only-of-type {\n        vertical-align: middle;\n    }\n\n    .dataframe tbody tr th {\n        vertical-align: top;\n    }\n\n    .dataframe thead th {\n        text-align: right;\n    }\n</style>\n<table border=\"1\" class=\"dataframe\">\n  <thead>\n    <tr style=\"text-align: right;\">\n      <th></th>\n      <th>DATE</th>\n      <th>age_category</th>\n      <th>percent_positive_7d_avg</th>\n    </tr>\n  </thead>\n  <tbody>\n    <tr>\n      <th>8075</th>\n      <td>2024-09-28</td>\n      <td>65+</td>\n      <td>0.1969</td>\n    </tr>\n    <tr>\n      <th>8076</th>\n      <td>2024-09-29</td>\n      <td>65+</td>\n      <td>0.1935</td>\n    </tr>\n    <tr>\n      <th>8077</th>\n      <td>2024-09-30</td>\n      <td>65+</td>\n      <td>0.1905</td>\n    </tr>\n    <tr>\n      <th>8078</th>\n      <td>2024-10-01</td>\n      <td>65+</td>\n      <td>0.1928</td>\n    </tr>\n    <tr>\n      <th>8079</th>\n      <td>2024-10-02</td>\n      <td>65+</td>\n      <td>0.1924</td>\n    </tr>\n  </tbody>\n</table>\n</div>"
          },
          "metadata": {}
        }
      ],
      "execution_count": 16
    },
    {
      "id": "cd1eb2f1-3d36-46ef-8e0b-84865ce4b391",
      "cell_type": "markdown",
      "source": "Now we can look at a general description of the data:",
      "metadata": {}
    },
    {
      "id": "0028bdc7-cc4c-4c69-9558-b57b5eeda6ff",
      "cell_type": "code",
      "source": "all_cases.info()",
      "metadata": {
        "trusted": true
      },
      "outputs": [
        {
          "name": "stdout",
          "output_type": "stream",
          "text": "<class 'pandas.core.frame.DataFrame'>\nRangeIndex: 8080 entries, 0 to 8079\nData columns (total 3 columns):\n #   Column                   Non-Null Count  Dtype  \n---  ------                   --------------  -----  \n 0   DATE                     8080 non-null   object \n 1   age_category             8080 non-null   object \n 2   percent_positive_7d_avg  8080 non-null   float64\ndtypes: float64(1), object(2)\nmemory usage: 126.3+ KB\n"
        }
      ],
      "execution_count": 18
    },
    {
      "id": "432c0c69-d288-4137-84b0-c7f4a910edb2",
      "cell_type": "code",
      "source": "all_cases.describe()",
      "metadata": {
        "trusted": true
      },
      "outputs": [
        {
          "execution_count": 17,
          "output_type": "execute_result",
          "data": {
            "text/plain": "       percent_positive_7d_avg\ncount              8080.000000\nmean                  0.079339\nstd                   0.062066\nmin                   0.000000\n25%                   0.031075\n50%                   0.064900\n75%                   0.112300\nmax                   0.411600",
            "text/html": "<div>\n<style scoped>\n    .dataframe tbody tr th:only-of-type {\n        vertical-align: middle;\n    }\n\n    .dataframe tbody tr th {\n        vertical-align: top;\n    }\n\n    .dataframe thead th {\n        text-align: right;\n    }\n</style>\n<table border=\"1\" class=\"dataframe\">\n  <thead>\n    <tr style=\"text-align: right;\">\n      <th></th>\n      <th>percent_positive_7d_avg</th>\n    </tr>\n  </thead>\n  <tbody>\n    <tr>\n      <th>count</th>\n      <td>8080.000000</td>\n    </tr>\n    <tr>\n      <th>mean</th>\n      <td>0.079339</td>\n    </tr>\n    <tr>\n      <th>std</th>\n      <td>0.062066</td>\n    </tr>\n    <tr>\n      <th>min</th>\n      <td>0.000000</td>\n    </tr>\n    <tr>\n      <th>25%</th>\n      <td>0.031075</td>\n    </tr>\n    <tr>\n      <th>50%</th>\n      <td>0.064900</td>\n    </tr>\n    <tr>\n      <th>75%</th>\n      <td>0.112300</td>\n    </tr>\n    <tr>\n      <th>max</th>\n      <td>0.411600</td>\n    </tr>\n  </tbody>\n</table>\n</div>"
          },
          "metadata": {}
        }
      ],
      "execution_count": 17
    }
  ]
}